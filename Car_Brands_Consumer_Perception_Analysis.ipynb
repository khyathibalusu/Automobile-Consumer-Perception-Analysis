{
  "nbformat": 4,
  "nbformat_minor": 0,
  "metadata": {
    "colab": {
      "name": "Car Brands Consumer Perception Analysis.ipynb",
      "provenance": [],
      "collapsed_sections": [
        "eMO-0fGABnxT"
      ]
    },
    "kernelspec": {
      "name": "python3",
      "display_name": "Python 3"
    }
  },
  "cells": [
    {
      "cell_type": "markdown",
      "metadata": {
        "id": "Owywk9_D_DGr",
        "colab_type": "text"
      },
      "source": [
        "### Colab setup"
      ]
    },
    {
      "cell_type": "code",
      "metadata": {
        "id": "HY7k_yiFHobE",
        "colab_type": "code",
        "colab": {}
      },
      "source": [
        "# Code to read csv file into Colaboratory:\n",
        "!pip install -U -q PyDrive\n",
        "from pydrive.auth import GoogleAuth\n",
        "from pydrive.drive import GoogleDrive\n",
        "from google.colab import auth\n",
        "from oauth2client.client import GoogleCredentials\n",
        "# Authenticate and create the PyDrive client.\n",
        "auth.authenticate_user()\n",
        "gauth = GoogleAuth()\n",
        "gauth.credentials = GoogleCredentials.get_application_default()\n",
        "drive = GoogleDrive(gauth)"
      ],
      "execution_count": 0,
      "outputs": []
    },
    {
      "cell_type": "markdown",
      "metadata": {
        "id": "F3La-hHrJGus",
        "colab_type": "text"
      },
      "source": [
        "### Scraping with Selenium"
      ]
    },
    {
      "cell_type": "code",
      "metadata": {
        "id": "1OTp8opMH4YI",
        "colab_type": "code",
        "outputId": "833bbe14-e612-48e9-a924-6514078e1a48",
        "colab": {
          "base_uri": "https://localhost:8080/",
          "height": 852
        }
      },
      "source": [
        "# install and setup selenium\n",
        "!pip install selenium\n",
        "# !apt-get -q update # to update ubuntu to correctly run apt install\n",
        "!apt install -yq chromium-chromedriver\n",
        "!cp /usr/lib/chromium-browser/chromedriver /usr/bin\n",
        "\n",
        "import sys\n",
        "sys.path.insert(0,'/usr/lib/chromium-browser/chromedriver')\n",
        "from selenium import webdriver\n",
        "chrome_options = webdriver.ChromeOptions()\n",
        "chrome_options.add_argument('--headless')\n",
        "chrome_options.add_argument('--no-sandbox')\n",
        "chrome_options.add_argument('--disable-dev-shm-usage')"
      ],
      "execution_count": 0,
      "outputs": [
        {
          "output_type": "stream",
          "text": [
            "Collecting selenium\n",
            "\u001b[?25l  Downloading https://files.pythonhosted.org/packages/80/d6/4294f0b4bce4de0abf13e17190289f9d0613b0a44e5dd6a7f5ca98459853/selenium-3.141.0-py2.py3-none-any.whl (904kB)\n",
            "\r\u001b[K     |▍                               | 10kB 21.2MB/s eta 0:00:01\r\u001b[K     |▊                               | 20kB 3.2MB/s eta 0:00:01\r\u001b[K     |█                               | 30kB 4.7MB/s eta 0:00:01\r\u001b[K     |█▌                              | 40kB 3.0MB/s eta 0:00:01\r\u001b[K     |█▉                              | 51kB 3.7MB/s eta 0:00:01\r\u001b[K     |██▏                             | 61kB 4.4MB/s eta 0:00:01\r\u001b[K     |██▌                             | 71kB 5.1MB/s eta 0:00:01\r\u001b[K     |███                             | 81kB 5.8MB/s eta 0:00:01\r\u001b[K     |███▎                            | 92kB 6.4MB/s eta 0:00:01\r\u001b[K     |███▋                            | 102kB 4.9MB/s eta 0:00:01\r\u001b[K     |████                            | 112kB 4.9MB/s eta 0:00:01\r\u001b[K     |████▍                           | 122kB 4.9MB/s eta 0:00:01\r\u001b[K     |████▊                           | 133kB 4.9MB/s eta 0:00:01\r\u001b[K     |█████                           | 143kB 4.9MB/s eta 0:00:01\r\u001b[K     |█████▍                          | 153kB 4.9MB/s eta 0:00:01\r\u001b[K     |█████▉                          | 163kB 4.9MB/s eta 0:00:01\r\u001b[K     |██████▏                         | 174kB 4.9MB/s eta 0:00:01\r\u001b[K     |██████▌                         | 184kB 4.9MB/s eta 0:00:01\r\u001b[K     |██████▉                         | 194kB 4.9MB/s eta 0:00:01\r\u001b[K     |███████▎                        | 204kB 4.9MB/s eta 0:00:01\r\u001b[K     |███████▋                        | 215kB 4.9MB/s eta 0:00:01\r\u001b[K     |████████                        | 225kB 4.9MB/s eta 0:00:01\r\u001b[K     |████████▎                       | 235kB 4.9MB/s eta 0:00:01\r\u001b[K     |████████▊                       | 245kB 4.9MB/s eta 0:00:01\r\u001b[K     |█████████                       | 256kB 4.9MB/s eta 0:00:01\r\u001b[K     |█████████▍                      | 266kB 4.9MB/s eta 0:00:01\r\u001b[K     |█████████▉                      | 276kB 4.9MB/s eta 0:00:01\r\u001b[K     |██████████▏                     | 286kB 4.9MB/s eta 0:00:01\r\u001b[K     |██████████▌                     | 296kB 4.9MB/s eta 0:00:01\r\u001b[K     |██████████▉                     | 307kB 4.9MB/s eta 0:00:01\r\u001b[K     |███████████▎                    | 317kB 4.9MB/s eta 0:00:01\r\u001b[K     |███████████▋                    | 327kB 4.9MB/s eta 0:00:01\r\u001b[K     |████████████                    | 337kB 4.9MB/s eta 0:00:01\r\u001b[K     |████████████▎                   | 348kB 4.9MB/s eta 0:00:01\r\u001b[K     |████████████▊                   | 358kB 4.9MB/s eta 0:00:01\r\u001b[K     |█████████████                   | 368kB 4.9MB/s eta 0:00:01\r\u001b[K     |█████████████▍                  | 378kB 4.9MB/s eta 0:00:01\r\u001b[K     |█████████████▊                  | 389kB 4.9MB/s eta 0:00:01\r\u001b[K     |██████████████▏                 | 399kB 4.9MB/s eta 0:00:01\r\u001b[K     |██████████████▌                 | 409kB 4.9MB/s eta 0:00:01\r\u001b[K     |██████████████▉                 | 419kB 4.9MB/s eta 0:00:01\r\u001b[K     |███████████████▏                | 430kB 4.9MB/s eta 0:00:01\r\u001b[K     |███████████████▋                | 440kB 4.9MB/s eta 0:00:01\r\u001b[K     |████████████████                | 450kB 4.9MB/s eta 0:00:01\r\u001b[K     |████████████████▎               | 460kB 4.9MB/s eta 0:00:01\r\u001b[K     |████████████████▋               | 471kB 4.9MB/s eta 0:00:01\r\u001b[K     |█████████████████               | 481kB 4.9MB/s eta 0:00:01\r\u001b[K     |█████████████████▍              | 491kB 4.9MB/s eta 0:00:01\r\u001b[K     |█████████████████▊              | 501kB 4.9MB/s eta 0:00:01\r\u001b[K     |██████████████████▏             | 512kB 4.9MB/s eta 0:00:01\r\u001b[K     |██████████████████▌             | 522kB 4.9MB/s eta 0:00:01\r\u001b[K     |██████████████████▉             | 532kB 4.9MB/s eta 0:00:01\r\u001b[K     |███████████████████▏            | 542kB 4.9MB/s eta 0:00:01\r\u001b[K     |███████████████████▋            | 552kB 4.9MB/s eta 0:00:01\r\u001b[K     |████████████████████            | 563kB 4.9MB/s eta 0:00:01\r\u001b[K     |████████████████████▎           | 573kB 4.9MB/s eta 0:00:01\r\u001b[K     |████████████████████▋           | 583kB 4.9MB/s eta 0:00:01\r\u001b[K     |█████████████████████           | 593kB 4.9MB/s eta 0:00:01\r\u001b[K     |█████████████████████▍          | 604kB 4.9MB/s eta 0:00:01\r\u001b[K     |█████████████████████▊          | 614kB 4.9MB/s eta 0:00:01\r\u001b[K     |██████████████████████          | 624kB 4.9MB/s eta 0:00:01\r\u001b[K     |██████████████████████▌         | 634kB 4.9MB/s eta 0:00:01\r\u001b[K     |██████████████████████▉         | 645kB 4.9MB/s eta 0:00:01\r\u001b[K     |███████████████████████▏        | 655kB 4.9MB/s eta 0:00:01\r\u001b[K     |███████████████████████▌        | 665kB 4.9MB/s eta 0:00:01\r\u001b[K     |████████████████████████        | 675kB 4.9MB/s eta 0:00:01\r\u001b[K     |████████████████████████▎       | 686kB 4.9MB/s eta 0:00:01\r\u001b[K     |████████████████████████▋       | 696kB 4.9MB/s eta 0:00:01\r\u001b[K     |█████████████████████████       | 706kB 4.9MB/s eta 0:00:01\r\u001b[K     |█████████████████████████▍      | 716kB 4.9MB/s eta 0:00:01\r\u001b[K     |█████████████████████████▊      | 727kB 4.9MB/s eta 0:00:01\r\u001b[K     |██████████████████████████      | 737kB 4.9MB/s eta 0:00:01\r\u001b[K     |██████████████████████████▍     | 747kB 4.9MB/s eta 0:00:01\r\u001b[K     |██████████████████████████▉     | 757kB 4.9MB/s eta 0:00:01\r\u001b[K     |███████████████████████████▏    | 768kB 4.9MB/s eta 0:00:01\r\u001b[K     |███████████████████████████▌    | 778kB 4.9MB/s eta 0:00:01\r\u001b[K     |████████████████████████████    | 788kB 4.9MB/s eta 0:00:01\r\u001b[K     |████████████████████████████▎   | 798kB 4.9MB/s eta 0:00:01\r\u001b[K     |████████████████████████████▋   | 808kB 4.9MB/s eta 0:00:01\r\u001b[K     |█████████████████████████████   | 819kB 4.9MB/s eta 0:00:01\r\u001b[K     |█████████████████████████████▍  | 829kB 4.9MB/s eta 0:00:01\r\u001b[K     |█████████████████████████████▊  | 839kB 4.9MB/s eta 0:00:01\r\u001b[K     |██████████████████████████████  | 849kB 4.9MB/s eta 0:00:01\r\u001b[K     |██████████████████████████████▍ | 860kB 4.9MB/s eta 0:00:01\r\u001b[K     |██████████████████████████████▉ | 870kB 4.9MB/s eta 0:00:01\r\u001b[K     |███████████████████████████████▏| 880kB 4.9MB/s eta 0:00:01\r\u001b[K     |███████████████████████████████▌| 890kB 4.9MB/s eta 0:00:01\r\u001b[K     |███████████████████████████████▉| 901kB 4.9MB/s eta 0:00:01\r\u001b[K     |████████████████████████████████| 911kB 4.9MB/s \n",
            "\u001b[?25hRequirement already satisfied: urllib3 in /usr/local/lib/python3.6/dist-packages (from selenium) (1.24.3)\n",
            "Installing collected packages: selenium\n",
            "Successfully installed selenium-3.141.0\n",
            "Reading package lists...\n",
            "Building dependency tree...\n",
            "Reading state information...\n",
            "The following additional packages will be installed:\n",
            "  chromium-browser chromium-browser-l10n chromium-codecs-ffmpeg-extra\n",
            "Suggested packages:\n",
            "  webaccounts-chromium-extension unity-chromium-extension adobe-flashplugin\n",
            "The following NEW packages will be installed:\n",
            "  chromium-browser chromium-browser-l10n chromium-chromedriver\n",
            "  chromium-codecs-ffmpeg-extra\n",
            "0 upgraded, 4 newly installed, 0 to remove and 28 not upgraded.\n",
            "Need to get 70.8 MB of archives.\n",
            "After this operation, 254 MB of additional disk space will be used.\n",
            "Get:1 http://archive.ubuntu.com/ubuntu bionic-updates/universe amd64 chromium-codecs-ffmpeg-extra amd64 77.0.3865.90-0ubuntu0.18.04.1 [1,079 kB]\n",
            "Get:2 http://archive.ubuntu.com/ubuntu bionic-updates/universe amd64 chromium-browser amd64 77.0.3865.90-0ubuntu0.18.04.1 [62.3 MB]\n",
            "Get:3 http://archive.ubuntu.com/ubuntu bionic-updates/universe amd64 chromium-browser-l10n all 77.0.3865.90-0ubuntu0.18.04.1 [3,011 kB]\n",
            "Get:4 http://archive.ubuntu.com/ubuntu bionic-updates/universe amd64 chromium-chromedriver amd64 77.0.3865.90-0ubuntu0.18.04.1 [4,388 kB]\n",
            "Fetched 70.8 MB in 8s (8,751 kB/s)\n",
            "Selecting previously unselected package chromium-codecs-ffmpeg-extra.\n",
            "(Reading database ... 132681 files and directories currently installed.)\n",
            "Preparing to unpack .../chromium-codecs-ffmpeg-extra_77.0.3865.90-0ubuntu0.18.04.1_amd64.deb ...\n",
            "Unpacking chromium-codecs-ffmpeg-extra (77.0.3865.90-0ubuntu0.18.04.1) ...\n",
            "Selecting previously unselected package chromium-browser.\n",
            "Preparing to unpack .../chromium-browser_77.0.3865.90-0ubuntu0.18.04.1_amd64.deb ...\n",
            "Unpacking chromium-browser (77.0.3865.90-0ubuntu0.18.04.1) ...\n",
            "Selecting previously unselected package chromium-browser-l10n.\n",
            "Preparing to unpack .../chromium-browser-l10n_77.0.3865.90-0ubuntu0.18.04.1_all.deb ...\n",
            "Unpacking chromium-browser-l10n (77.0.3865.90-0ubuntu0.18.04.1) ...\n",
            "Selecting previously unselected package chromium-chromedriver.\n",
            "Preparing to unpack .../chromium-chromedriver_77.0.3865.90-0ubuntu0.18.04.1_amd64.deb ...\n",
            "Unpacking chromium-chromedriver (77.0.3865.90-0ubuntu0.18.04.1) ...\n",
            "Processing triggers for mime-support (3.60ubuntu1) ...\n",
            "Setting up chromium-codecs-ffmpeg-extra (77.0.3865.90-0ubuntu0.18.04.1) ...\n",
            "Processing triggers for man-db (2.8.3-2ubuntu0.1) ...\n",
            "Processing triggers for hicolor-icon-theme (0.17-2) ...\n",
            "Setting up chromium-browser (77.0.3865.90-0ubuntu0.18.04.1) ...\n",
            "update-alternatives: using /usr/bin/chromium-browser to provide /usr/bin/x-www-browser (x-www-browser) in auto mode\n",
            "update-alternatives: using /usr/bin/chromium-browser to provide /usr/bin/gnome-www-browser (gnome-www-browser) in auto mode\n",
            "Setting up chromium-chromedriver (77.0.3865.90-0ubuntu0.18.04.1) ...\n",
            "Setting up chromium-browser-l10n (77.0.3865.90-0ubuntu0.18.04.1) ...\n",
            "cp: '/usr/lib/chromium-browser/chromedriver' and '/usr/bin/chromedriver' are the same file\n"
          ],
          "name": "stdout"
        }
      ]
    },
    {
      "cell_type": "code",
      "metadata": {
        "id": "GFKEvtBLIGz5",
        "colab_type": "code",
        "colab": {}
      },
      "source": [
        "import pandas as pd\n",
        "# webdriver provides capabilities for navigating to web pages\n",
        "driver = webdriver.Chrome('chromedriver', options=chrome_options)"
      ],
      "execution_count": 0,
      "outputs": []
    },
    {
      "cell_type": "code",
      "metadata": {
        "id": "h1d3i0ZzIZNh",
        "colab_type": "code",
        "colab": {}
      },
      "source": [
        "# scraping and storing data\n",
        "df = pd.DataFrame(columns=['username', 'date', 'comment'])\n",
        "df.index.name = \"ID\"\n",
        "\n",
        "for i in range(150):\n",
        "  driver.get('https://forums.edmunds.com/discussion/2864/general/x/entry-level-luxury-performance-sedans/p' + str(i+1))\n",
        "\n",
        "  for each in range(50):\n",
        "    userid_element = driver.find_elements_by_xpath('/html/body/div[1]/main/div/div[3]/div[5]/div[1]/ul/li[' + str(each+1) + ']/div/div[2]/div[1]/span[1]/a[2]')[0]\n",
        "    userid = userid_element.text\n",
        "\n",
        "    user_date = driver.find_elements_by_xpath('/html/body/div[1]/main/div/div[3]/div[5]/div[1]/ul/li[' + str(each+1) + ']/div/div[2]/div[2]/span/a/time')[0]\n",
        "    date_time = user_date.get_attribute('title')\n",
        "\n",
        "    user_message = driver.find_elements_by_xpath('/html/body/div[1]/main/div/div[3]/div[5]/div[1]/ul/li[' + str(each+1) + ']/div/div[3]/div/div[1]')[0]\n",
        "    comment = user_message.text\n",
        "\n",
        "    df.loc[50*i + each, 'username'] = userid\n",
        "    df.loc[50*i + each, 'date'] = date_time\n",
        "    df.loc[50*i + each, 'comment'] = comment"
      ],
      "execution_count": 0,
      "outputs": []
    },
    {
      "cell_type": "code",
      "metadata": {
        "id": "_bFBoCAgIu6k",
        "colab_type": "code",
        "colab": {}
      },
      "source": [
        "# save data in csv so that we need not scrape everytime\n",
        "df.to_csv(\"cars.csv\")\n",
        "df.head()"
      ],
      "execution_count": 0,
      "outputs": []
    },
    {
      "cell_type": "code",
      "metadata": {
        "id": "fOSSmBZpPNp6",
        "colab_type": "code",
        "colab": {}
      },
      "source": [
        "# df.shape"
      ],
      "execution_count": 0,
      "outputs": []
    },
    {
      "cell_type": "markdown",
      "metadata": {
        "id": "6vISzXiLJJyD",
        "colab_type": "text"
      },
      "source": [
        "### Data Processing"
      ]
    },
    {
      "cell_type": "code",
      "metadata": {
        "id": "8U4kfOGHAqtB",
        "colab_type": "code",
        "outputId": "f6b0a572-519a-4d5c-c1e1-82ae48e1e546",
        "colab": {
          "base_uri": "https://localhost:8080/",
          "height": 53
        }
      },
      "source": [
        "import pandas as pd\n",
        "import nltk\n",
        "nltk.download('punkt');\n",
        "import seaborn as sns\n",
        "import matplotlib.pyplot as plt\n",
        "from sklearn.manifold import Isomap\n",
        "from sklearn.manifold import MDS\n",
        "from sklearn import manifold"
      ],
      "execution_count": 0,
      "outputs": [
        {
          "output_type": "stream",
          "text": [
            "[nltk_data] Downloading package punkt to /root/nltk_data...\n",
            "[nltk_data]   Unzipping tokenizers/punkt.zip.\n"
          ],
          "name": "stdout"
        }
      ]
    },
    {
      "cell_type": "code",
      "metadata": {
        "id": "JmbOTEne_Gks",
        "colab_type": "code",
        "outputId": "e0f050fc-558b-4d31-e292-29dba4e5408f",
        "colab": {
          "base_uri": "https://localhost:8080/",
          "height": 35
        }
      },
      "source": [
        "# importing scraped_data file from gdrive\n",
        "link = 'https://drive.google.com/open?id=1tMSovqODTJRHBDteziXdOuSdmQWIpSHZ' # Paste the shareable link here\n",
        "\n",
        "fluff, id = link.split('=')\n",
        "print (id) # Verify that you have everything after '='\n",
        "\n",
        "downloaded = drive.CreateFile({'id':id}) \n",
        "downloaded.GetContentFile('scraped_data.csv')"
      ],
      "execution_count": 0,
      "outputs": [
        {
          "output_type": "stream",
          "text": [
            "1tMSovqODTJRHBDteziXdOuSdmQWIpSHZ\n"
          ],
          "name": "stdout"
        }
      ]
    },
    {
      "cell_type": "code",
      "metadata": {
        "id": "ELi0yCdy21ie",
        "colab_type": "code",
        "outputId": "7a92dfdd-eff7-4780-a22d-64dacab5e4e9",
        "colab": {
          "base_uri": "https://localhost:8080/",
          "height": 35
        }
      },
      "source": [
        "# importing cars_models file from gdrive\n",
        "link = 'https://drive.google.com/open?id=1DcsetHDMgd4lCdrQGU9PhTVq8QmPnWRg' # Paste the shareable link here\n",
        "\n",
        "fluff, id = link.split('=')\n",
        "print (id) # Verify that you have everything after '='\n",
        "\n",
        "downloaded = drive.CreateFile({'id':id}) \n",
        "downloaded.GetContentFile('cars_models.csv') "
      ],
      "execution_count": 0,
      "outputs": [
        {
          "output_type": "stream",
          "text": [
            "1DcsetHDMgd4lCdrQGU9PhTVq8QmPnWRg\n"
          ],
          "name": "stdout"
        }
      ]
    },
    {
      "cell_type": "code",
      "metadata": {
        "id": "Y12wEUrGEQK3",
        "colab_type": "code",
        "outputId": "c0f81e6e-8f9f-41e0-daf8-16a5d2423e7c",
        "colab": {
          "base_uri": "https://localhost:8080/",
          "height": 35
        }
      },
      "source": [
        "# importing file from gdrive\n",
        "link = 'https://drive.google.com/open?id=1fKCQEm5rsbguCaQOFKximzfxqblX7u8C' # Paste the shareable link here\n",
        "\n",
        "fluff, id = link.split('=')\n",
        "print (id) # Verify that you have everything after '='\n",
        "\n",
        "downloaded = drive.CreateFile({'id':id}) \n",
        "downloaded.GetContentFile('feature_list.csv')"
      ],
      "execution_count": 0,
      "outputs": [
        {
          "output_type": "stream",
          "text": [
            "1fKCQEm5rsbguCaQOFKximzfxqblX7u8C\n"
          ],
          "name": "stdout"
        }
      ]
    },
    {
      "cell_type": "code",
      "metadata": {
        "id": "hHvywQN7GqlY",
        "colab_type": "code",
        "outputId": "17222704-d69b-48eb-829f-3b7f74026ba9",
        "colab": {
          "base_uri": "https://localhost:8080/",
          "height": 35
        }
      },
      "source": [
        "# importing file from gdrive\n",
        "link = 'https://drive.google.com/open?id=12dR9zI2hLKYT0m1TdkGWIW2oWaFSBUkd' # Paste the shareable link here\n",
        "\n",
        "fluff, id = link.split('=')\n",
        "print (id) # Verify that you have everything after '='\n",
        "\n",
        "downloaded = drive.CreateFile({'id':id}) \n",
        "downloaded.GetContentFile('aspiration_words.csv') "
      ],
      "execution_count": 0,
      "outputs": [
        {
          "output_type": "stream",
          "text": [
            "12dR9zI2hLKYT0m1TdkGWIW2oWaFSBUkd\n"
          ],
          "name": "stdout"
        }
      ]
    },
    {
      "cell_type": "code",
      "metadata": {
        "id": "Koy05jCEroCw",
        "colab_type": "code",
        "outputId": "fd3aa36c-1097-4a00-b862-4d4c519589ce",
        "colab": {
          "base_uri": "https://localhost:8080/",
          "height": 203
        }
      },
      "source": [
        "# import cars and model details mapping, added a few cars which were not present in the given file\n",
        "cars_models = pd.read_csv('cars_models.csv')\n",
        "cars_models.head()"
      ],
      "execution_count": 0,
      "outputs": [
        {
          "output_type": "execute_result",
          "data": {
            "text/html": [
              "<div>\n",
              "<style scoped>\n",
              "    .dataframe tbody tr th:only-of-type {\n",
              "        vertical-align: middle;\n",
              "    }\n",
              "\n",
              "    .dataframe tbody tr th {\n",
              "        vertical-align: top;\n",
              "    }\n",
              "\n",
              "    .dataframe thead th {\n",
              "        text-align: right;\n",
              "    }\n",
              "</style>\n",
              "<table border=\"1\" class=\"dataframe\">\n",
              "  <thead>\n",
              "    <tr style=\"text-align: right;\">\n",
              "      <th></th>\n",
              "      <th>brand</th>\n",
              "      <th>model</th>\n",
              "    </tr>\n",
              "  </thead>\n",
              "  <tbody>\n",
              "    <tr>\n",
              "      <th>0</th>\n",
              "      <td>acura</td>\n",
              "      <td>integra</td>\n",
              "    </tr>\n",
              "    <tr>\n",
              "      <th>1</th>\n",
              "      <td>acura</td>\n",
              "      <td>legend</td>\n",
              "    </tr>\n",
              "    <tr>\n",
              "      <th>2</th>\n",
              "      <td>acura</td>\n",
              "      <td>vigor</td>\n",
              "    </tr>\n",
              "    <tr>\n",
              "      <th>3</th>\n",
              "      <td>acura</td>\n",
              "      <td>rlx</td>\n",
              "    </tr>\n",
              "    <tr>\n",
              "      <th>4</th>\n",
              "      <td>acura</td>\n",
              "      <td>ilx</td>\n",
              "    </tr>\n",
              "  </tbody>\n",
              "</table>\n",
              "</div>"
            ],
            "text/plain": [
              "   brand    model\n",
              "0  acura  integra\n",
              "1  acura   legend\n",
              "2  acura    vigor\n",
              "3  acura      rlx\n",
              "4  acura      ilx"
            ]
          },
          "metadata": {
            "tags": []
          },
          "execution_count": 7
        }
      ]
    },
    {
      "cell_type": "code",
      "metadata": {
        "id": "P_hCKcMSr6_T",
        "colab_type": "code",
        "colab": {}
      },
      "source": [
        "# cleaning up the cars models dataframe\n",
        "cars_models['brand'] = cars_models['brand'].str.lower().str.strip()\n",
        "cars_models['model'] = cars_models['model'].str.lower().str.strip()"
      ],
      "execution_count": 0,
      "outputs": []
    },
    {
      "cell_type": "code",
      "metadata": {
        "id": "Lme7W9F8sc3T",
        "colab_type": "code",
        "outputId": "92f7560c-18d7-4fb6-cd30-ceb5b3fbbd86",
        "colab": {
          "base_uri": "https://localhost:8080/",
          "height": 161
        }
      },
      "source": [
        "cars_models['brand'].unique()"
      ],
      "execution_count": 0,
      "outputs": [
        {
          "output_type": "execute_result",
          "data": {
            "text/plain": [
              "array(['acura', 'audi', 'bmw', 'buick', 'cadillac', 'car', 'chevrolet',\n",
              "       'chrysler', 'dodge', 'ford', 'honda', 'hyndai kia', 'hyundai',\n",
              "       'hyundai,', 'hyundai.', 'infiniti', 'kia', 'kia,', 'kia.',\n",
              "       'lincoln', 'mazda', 'mercedes', 'mercedes benz', 'mercedes-benz',\n",
              "       'mercury', 'mitsubishi', 'nissan', 'nissan.', 'pontiac', 'problem',\n",
              "       'saturn', 'seat', 'sedan', 'subaru', 'suzuki', 'toyata', 'toyota',\n",
              "       'volkswagen', 'volkwagen', 'volvo', 'lexus', 'jaguar', 'porsche',\n",
              "       'lamborghini', 'renault', 'ferrari'], dtype=object)"
            ]
          },
          "metadata": {
            "tags": []
          },
          "execution_count": 9
        }
      ]
    },
    {
      "cell_type": "code",
      "metadata": {
        "id": "DzKv6lMOtVBm",
        "colab_type": "code",
        "colab": {}
      },
      "source": [
        "cars_models = cars_models[cars_models['brand'] != 'hyndai kia']\n",
        "cars_models['brand'] = cars_models['brand'].str.replace('mercedes benz','mercedes').str.replace('mercedes-benz','mercedes').str.replace('toyata','toyota')\n",
        "cars_models['brand'] = cars_models['brand'].str.strip(\",\").str.strip(\".\")\n",
        "cars_models['model'] = cars_models['model'].str.strip(\",\").str.strip(\".\")\n",
        "cars_models.drop_duplicates(inplace= True)\n",
        "cars_models.reset_index(inplace= True)\n",
        "cars_models.drop(columns = ['index'], inplace= True)"
      ],
      "execution_count": 0,
      "outputs": []
    },
    {
      "cell_type": "code",
      "metadata": {
        "id": "fzvkk9F8xwCd",
        "colab_type": "code",
        "colab": {}
      },
      "source": [
        "cars_models.to_csv('cleaned_cars_models.csv')"
      ],
      "execution_count": 0,
      "outputs": []
    },
    {
      "cell_type": "code",
      "metadata": {
        "id": "YBXvJutHFe93",
        "colab_type": "code",
        "colab": {}
      },
      "source": [
        "cars_models_dict = dict(zip(cars_models['model'], cars_models['brand']))"
      ],
      "execution_count": 0,
      "outputs": []
    },
    {
      "cell_type": "code",
      "metadata": {
        "id": "iJY-SGbunH_x",
        "colab_type": "code",
        "outputId": "267f63f1-4dee-46ec-95f9-f40a23b54c86",
        "colab": {
          "base_uri": "https://localhost:8080/",
          "height": 203
        }
      },
      "source": [
        "# back to our scrapped data\n",
        "scrapped_data = pd.read_csv('scraped_data.csv')\n",
        "scrapped_data = scrapped_data.iloc[:,3:]\n",
        "scrapped_data.drop_duplicates(inplace=True)\n",
        "scrapped_data = scrapped_data[scrapped_data['comment'].str.split().str.len() > 15]\n",
        "scrapped_data['comment'] = scrapped_data['comment'].str.lower()\n",
        "scrapped_data.reset_index(inplace= True)\n",
        "scrapped_data.drop(columns = ['index'], inplace=True)\n",
        "scrapped_data.head()"
      ],
      "execution_count": 0,
      "outputs": [
        {
          "output_type": "execute_result",
          "data": {
            "text/html": [
              "<div>\n",
              "<style scoped>\n",
              "    .dataframe tbody tr th:only-of-type {\n",
              "        vertical-align: middle;\n",
              "    }\n",
              "\n",
              "    .dataframe tbody tr th {\n",
              "        vertical-align: top;\n",
              "    }\n",
              "\n",
              "    .dataframe thead th {\n",
              "        text-align: right;\n",
              "    }\n",
              "</style>\n",
              "<table border=\"1\" class=\"dataframe\">\n",
              "  <thead>\n",
              "    <tr style=\"text-align: right;\">\n",
              "      <th></th>\n",
              "      <th>username</th>\n",
              "      <th>date</th>\n",
              "      <th>comment</th>\n",
              "    </tr>\n",
              "  </thead>\n",
              "  <tbody>\n",
              "    <tr>\n",
              "      <th>0</th>\n",
              "      <td>merc1</td>\n",
              "      <td>March 2002</td>\n",
              "      <td>i personally think that with a few tweaks the ...</td>\n",
              "    </tr>\n",
              "    <tr>\n",
              "      <th>1</th>\n",
              "      <td>fredvh</td>\n",
              "      <td>March 2002</td>\n",
              "      <td>i am debating a new purchase and these two are...</td>\n",
              "    </tr>\n",
              "    <tr>\n",
              "      <th>2</th>\n",
              "      <td>hungrywhale</td>\n",
              "      <td>March 2002</td>\n",
              "      <td>and no manual tranny. that may not matter to y...</td>\n",
              "    </tr>\n",
              "    <tr>\n",
              "      <th>3</th>\n",
              "      <td>riez</td>\n",
              "      <td>March 2002</td>\n",
              "      <td>one beauty of bmw 3 series is that there are s...</td>\n",
              "    </tr>\n",
              "    <tr>\n",
              "      <th>4</th>\n",
              "      <td>blueguydotcom</td>\n",
              "      <td>March 2002</td>\n",
              "      <td>good grief, so you wait 9 months for the manua...</td>\n",
              "    </tr>\n",
              "  </tbody>\n",
              "</table>\n",
              "</div>"
            ],
            "text/plain": [
              "        username        date                                            comment\n",
              "0          merc1  March 2002  i personally think that with a few tweaks the ...\n",
              "1         fredvh  March 2002  i am debating a new purchase and these two are...\n",
              "2    hungrywhale  March 2002  and no manual tranny. that may not matter to y...\n",
              "3           riez  March 2002  one beauty of bmw 3 series is that there are s...\n",
              "4  blueguydotcom  March 2002  good grief, so you wait 9 months for the manua..."
            ]
          },
          "metadata": {
            "tags": []
          },
          "execution_count": 13
        }
      ]
    },
    {
      "cell_type": "code",
      "metadata": {
        "id": "qm9tW59AyOf9",
        "colab_type": "code",
        "outputId": "7436e709-d12d-4059-8645-44f4545d3c38",
        "colab": {
          "base_uri": "https://localhost:8080/",
          "height": 53
        }
      },
      "source": [
        "# removing stopwords from the comments\n",
        "import re\n",
        "import nltk\n",
        "nltk.download('stopwords')\n",
        "from nltk.corpus import stopwords "
      ],
      "execution_count": 0,
      "outputs": [
        {
          "output_type": "stream",
          "text": [
            "[nltk_data] Downloading package stopwords to /root/nltk_data...\n",
            "[nltk_data]   Unzipping corpora/stopwords.zip.\n"
          ],
          "name": "stdout"
        }
      ]
    },
    {
      "cell_type": "code",
      "metadata": {
        "id": "SX7qFu2bI6Ux",
        "colab_type": "code",
        "colab": {}
      },
      "source": [
        "# removing stopwords\n",
        "stoplist=list(stopwords.words('english'))\n",
        "scrapped_data['comment'] = scrapped_data['comment']. \\\n",
        "                            map(lambda x: ' '.join([each for each in x.split() if each not in stoplist]))"
      ],
      "execution_count": 0,
      "outputs": []
    },
    {
      "cell_type": "code",
      "metadata": {
        "id": "MyZ5rDzJ9qM2",
        "colab_type": "code",
        "colab": {}
      },
      "source": [
        "# removing punctuations\n",
        "scrapped_data['comment'] = scrapped_data['comment']. \\\n",
        "                            map(lambda x: re.sub(r\"[\\'!@#$%^&*,.()_\\<>?:;~`\\[\\]\\(\\)\\\\\\/\\\"]\",\"\",x))"
      ],
      "execution_count": 0,
      "outputs": []
    },
    {
      "cell_type": "markdown",
      "metadata": {
        "id": "eMO-0fGABnxT",
        "colab_type": "text"
      },
      "source": [
        "### Top10 Cars"
      ]
    },
    {
      "cell_type": "code",
      "metadata": {
        "id": "Urv129j9RCyX",
        "colab_type": "code",
        "colab": {}
      },
      "source": [
        "# scrapped_data['comment'].str.split().map(lambda x: cars_models_dict[i] if i in cars_models_dict else i for i in x )"
      ],
      "execution_count": 0,
      "outputs": []
    },
    {
      "cell_type": "code",
      "metadata": {
        "id": "So6e3-ZyUpro",
        "colab_type": "code",
        "colab": {}
      },
      "source": [
        "# replacing cars model names with brand names and removing multiple mentions of one brand in a comment using set\n",
        "scrapped_data['cars_cleaned'] = \"\"\n",
        "from nltk.tokenize import word_tokenize\n",
        "word_corpus_cars = []\n",
        "\n",
        "for each in range(len(scrapped_data)):\n",
        "    token = word_tokenize(scrapped_data.loc[each,'comment'])\n",
        "   \n",
        "    new_token = []\n",
        "   \n",
        "    for j in token:\n",
        "        if j in cars_models_dict:\n",
        "            new_token.append(cars_models_dict[j])\n",
        "        else:\n",
        "            new_token.append(j)\n",
        "           \n",
        "    new_token = list(set(new_token))\n",
        "   \n",
        "    scrapped_data.loc[each,'cars_cleaned'] = new_token\n",
        "\n",
        "    for i in new_token:\n",
        "        word_corpus_cars.append(i)"
      ],
      "execution_count": 0,
      "outputs": []
    },
    {
      "cell_type": "code",
      "metadata": {
        "id": "J43NioPIakuR",
        "colab_type": "code",
        "outputId": "e8e4b281-a98d-4230-961c-e28c65e7a1d5",
        "colab": {
          "base_uri": "https://localhost:8080/",
          "height": 203
        }
      },
      "source": [
        "scrapped_data.head()"
      ],
      "execution_count": 0,
      "outputs": [
        {
          "output_type": "execute_result",
          "data": {
            "text/html": [
              "<div>\n",
              "<style scoped>\n",
              "    .dataframe tbody tr th:only-of-type {\n",
              "        vertical-align: middle;\n",
              "    }\n",
              "\n",
              "    .dataframe tbody tr th {\n",
              "        vertical-align: top;\n",
              "    }\n",
              "\n",
              "    .dataframe thead th {\n",
              "        text-align: right;\n",
              "    }\n",
              "</style>\n",
              "<table border=\"1\" class=\"dataframe\">\n",
              "  <thead>\n",
              "    <tr style=\"text-align: right;\">\n",
              "      <th></th>\n",
              "      <th>username</th>\n",
              "      <th>date</th>\n",
              "      <th>comment</th>\n",
              "      <th>cars_cleaned</th>\n",
              "    </tr>\n",
              "  </thead>\n",
              "  <tbody>\n",
              "    <tr>\n",
              "      <th>0</th>\n",
              "      <td>merc1</td>\n",
              "      <td>March 2002</td>\n",
              "      <td>personally think tweaks c320 could also sit to...</td>\n",
              "      <td>[facelift, 17, one, problem, something, thing,...</td>\n",
              "    </tr>\n",
              "    <tr>\n",
              "      <th>1</th>\n",
              "      <td>fredvh</td>\n",
              "      <td>March 2002</td>\n",
              "      <td>debating new purchase two top list price diffe...</td>\n",
              "      <td>[debating, 6k, list, dilemma, service, suppose...</td>\n",
              "    </tr>\n",
              "    <tr>\n",
              "      <th>2</th>\n",
              "      <td>hungrywhale</td>\n",
              "      <td>March 2002</td>\n",
              "      <td>manual tranny may matter you certainly matter ...</td>\n",
              "      <td>[matter, enthusiast, may, even, easy, tranny, ...</td>\n",
              "    </tr>\n",
              "    <tr>\n",
              "      <th>3</th>\n",
              "      <td>riez</td>\n",
              "      <td>March 2002</td>\n",
              "      <td>one beauty bmw 3 series many models choose fro...</td>\n",
              "      <td>[one, from, convertible, beauty, absolutely, m...</td>\n",
              "    </tr>\n",
              "    <tr>\n",
              "      <th>4</th>\n",
              "      <td>blueguydotcom</td>\n",
              "      <td>March 2002</td>\n",
              "      <td>good grief wait 9 months manual even auto pref...</td>\n",
              "      <td>[months, driving, thought, mercedes, prefer, l...</td>\n",
              "    </tr>\n",
              "  </tbody>\n",
              "</table>\n",
              "</div>"
            ],
            "text/plain": [
              "        username  ...                                       cars_cleaned\n",
              "0          merc1  ...  [facelift, 17, one, problem, something, thing,...\n",
              "1         fredvh  ...  [debating, 6k, list, dilemma, service, suppose...\n",
              "2    hungrywhale  ...  [matter, enthusiast, may, even, easy, tranny, ...\n",
              "3           riez  ...  [one, from, convertible, beauty, absolutely, m...\n",
              "4  blueguydotcom  ...  [months, driving, thought, mercedes, prefer, l...\n",
              "\n",
              "[5 rows x 4 columns]"
            ]
          },
          "metadata": {
            "tags": []
          },
          "execution_count": 18
        }
      ]
    },
    {
      "cell_type": "code",
      "metadata": {
        "id": "XYY4nTZJzg-v",
        "colab_type": "code",
        "outputId": "9cab3a1a-231b-47e2-9a14-924c13f0b3f2",
        "colab": {
          "base_uri": "https://localhost:8080/",
          "height": 203
        }
      },
      "source": [
        "word_count_cars = pd.DataFrame(pd.Series(word_corpus_cars).value_counts()).reset_index()\n",
        "word_count_cars.columns = ['word','freq']\n",
        "word_count_cars.head()"
      ],
      "execution_count": 0,
      "outputs": [
        {
          "output_type": "execute_result",
          "data": {
            "text/html": [
              "<div>\n",
              "<style scoped>\n",
              "    .dataframe tbody tr th:only-of-type {\n",
              "        vertical-align: middle;\n",
              "    }\n",
              "\n",
              "    .dataframe tbody tr th {\n",
              "        vertical-align: top;\n",
              "    }\n",
              "\n",
              "    .dataframe thead th {\n",
              "        text-align: right;\n",
              "    }\n",
              "</style>\n",
              "<table border=\"1\" class=\"dataframe\">\n",
              "  <thead>\n",
              "    <tr style=\"text-align: right;\">\n",
              "      <th></th>\n",
              "      <th>word</th>\n",
              "      <th>freq</th>\n",
              "    </tr>\n",
              "  </thead>\n",
              "  <tbody>\n",
              "    <tr>\n",
              "      <th>0</th>\n",
              "      <td>car</td>\n",
              "      <td>3374</td>\n",
              "    </tr>\n",
              "    <tr>\n",
              "      <th>1</th>\n",
              "      <td>bmw</td>\n",
              "      <td>2618</td>\n",
              "    </tr>\n",
              "    <tr>\n",
              "      <th>2</th>\n",
              "      <td>like</td>\n",
              "      <td>1727</td>\n",
              "    </tr>\n",
              "    <tr>\n",
              "      <th>3</th>\n",
              "      <td>one</td>\n",
              "      <td>1553</td>\n",
              "    </tr>\n",
              "    <tr>\n",
              "      <th>4</th>\n",
              "      <td>acura</td>\n",
              "      <td>1470</td>\n",
              "    </tr>\n",
              "  </tbody>\n",
              "</table>\n",
              "</div>"
            ],
            "text/plain": [
              "    word  freq\n",
              "0    car  3374\n",
              "1    bmw  2618\n",
              "2   like  1727\n",
              "3    one  1553\n",
              "4  acura  1470"
            ]
          },
          "metadata": {
            "tags": []
          },
          "execution_count": 19
        }
      ]
    },
    {
      "cell_type": "code",
      "metadata": {
        "id": "i25UOvCUhi7G",
        "colab_type": "code",
        "colab": {}
      },
      "source": [
        "# unique list of brands\n",
        "brands = pd.DataFrame(cars_models[~cars_models['brand'].isin(['car','seat','sedan'])]['brand'].unique(), columns=['brands'])"
      ],
      "execution_count": 0,
      "outputs": []
    },
    {
      "cell_type": "code",
      "metadata": {
        "id": "ZgTaKKar1P09",
        "colab_type": "code",
        "outputId": "cf2a1104-fb4b-4454-b564-2bcfcfa939f6",
        "colab": {
          "base_uri": "https://localhost:8080/",
          "height": 357
        }
      },
      "source": [
        "# subset top 10 brands\n",
        "top10_cars = word_count_cars.merge(brands, how='inner', left_on='word', right_on='brands').iloc[:10,:2]\n",
        "top10_cars"
      ],
      "execution_count": 0,
      "outputs": [
        {
          "output_type": "execute_result",
          "data": {
            "text/html": [
              "<div>\n",
              "<style scoped>\n",
              "    .dataframe tbody tr th:only-of-type {\n",
              "        vertical-align: middle;\n",
              "    }\n",
              "\n",
              "    .dataframe tbody tr th {\n",
              "        vertical-align: top;\n",
              "    }\n",
              "\n",
              "    .dataframe thead th {\n",
              "        text-align: right;\n",
              "    }\n",
              "</style>\n",
              "<table border=\"1\" class=\"dataframe\">\n",
              "  <thead>\n",
              "    <tr style=\"text-align: right;\">\n",
              "      <th></th>\n",
              "      <th>word</th>\n",
              "      <th>freq</th>\n",
              "    </tr>\n",
              "  </thead>\n",
              "  <tbody>\n",
              "    <tr>\n",
              "      <th>0</th>\n",
              "      <td>bmw</td>\n",
              "      <td>2618</td>\n",
              "    </tr>\n",
              "    <tr>\n",
              "      <th>1</th>\n",
              "      <td>acura</td>\n",
              "      <td>1470</td>\n",
              "    </tr>\n",
              "    <tr>\n",
              "      <th>2</th>\n",
              "      <td>infiniti</td>\n",
              "      <td>1305</td>\n",
              "    </tr>\n",
              "    <tr>\n",
              "      <th>3</th>\n",
              "      <td>lexus</td>\n",
              "      <td>908</td>\n",
              "    </tr>\n",
              "    <tr>\n",
              "      <th>4</th>\n",
              "      <td>mercedes</td>\n",
              "      <td>700</td>\n",
              "    </tr>\n",
              "    <tr>\n",
              "      <th>5</th>\n",
              "      <td>audi</td>\n",
              "      <td>612</td>\n",
              "    </tr>\n",
              "    <tr>\n",
              "      <th>6</th>\n",
              "      <td>honda</td>\n",
              "      <td>541</td>\n",
              "    </tr>\n",
              "    <tr>\n",
              "      <th>7</th>\n",
              "      <td>toyota</td>\n",
              "      <td>439</td>\n",
              "    </tr>\n",
              "    <tr>\n",
              "      <th>8</th>\n",
              "      <td>nissan</td>\n",
              "      <td>375</td>\n",
              "    </tr>\n",
              "    <tr>\n",
              "      <th>9</th>\n",
              "      <td>cadillac</td>\n",
              "      <td>370</td>\n",
              "    </tr>\n",
              "  </tbody>\n",
              "</table>\n",
              "</div>"
            ],
            "text/plain": [
              "       word  freq\n",
              "0       bmw  2618\n",
              "1     acura  1470\n",
              "2  infiniti  1305\n",
              "3     lexus   908\n",
              "4  mercedes   700\n",
              "5      audi   612\n",
              "6     honda   541\n",
              "7    toyota   439\n",
              "8    nissan   375\n",
              "9  cadillac   370"
            ]
          },
          "metadata": {
            "tags": []
          },
          "execution_count": 21
        }
      ]
    },
    {
      "cell_type": "markdown",
      "metadata": {
        "id": "ZXih6J334orw",
        "colab_type": "text"
      },
      "source": [
        "### Lift and MDS"
      ]
    },
    {
      "cell_type": "code",
      "metadata": {
        "id": "o0ezJM5m4n6Q",
        "colab_type": "code",
        "colab": {}
      },
      "source": [
        "# counting the occurence \n",
        "brand = top10_cars['word'].values\n",
        "l=[]\n",
        "matrix=pd.DataFrame(columns=range(len(brand)),index=range(len(brand)))\n",
        "dis_matrix = pd.DataFrame(columns=range(len(brand)),index=range(len(brand)))\n",
        "\n",
        "n=len(scrapped_data)\n",
        "for i in range(len(brand)):\n",
        "  for j in range(i+1,len(brand)):\n",
        "    counti=0\n",
        "    countj=0\n",
        "    countij=0\n",
        "    for k in scrapped_data['cars_cleaned']:\n",
        "      if brand[i] in k and brand[j] in k:\n",
        "        countij+=1\n",
        "      if brand[i] in k:\n",
        "        counti+=1\n",
        "      if brand[j] in k:\n",
        "        countj+=1\n",
        "      else:\n",
        "        pass\n",
        "    l.append([brand[i],brand[j],counti,countj,countij])\n",
        "    matrix.loc[i,j]=(countij*n)/(counti*countj)\n",
        "    matrix.loc[j,i]=(countij*n)/(counti*countj)\n",
        "    dis_matrix.loc[i,j]=(counti*countj)/(countij*n)\n",
        "    dis_matrix.loc[j,i]=(counti*countj)/(countij*n)"
      ],
      "execution_count": 0,
      "outputs": []
    },
    {
      "cell_type": "code",
      "metadata": {
        "id": "tOVztaI1Ei5w",
        "colab_type": "code",
        "outputId": "1c95b3c7-dcfa-4ebb-948d-fbe6347174f3",
        "colab": {
          "base_uri": "https://localhost:8080/",
          "height": 529
        }
      },
      "source": [
        "# Lift Matrix\n",
        "matrix.index=brand\n",
        "matrix.columns=brand\n",
        "matrix.fillna(0, inplace=True)\n",
        "\n",
        "plt.figure(figsize=(10,8))\n",
        "plt.title('Lift score heat map', fontsize = 10, pad = 20)\n",
        "sns.heatmap(matrix, linewidths=0.5, annot=True, fmt=\".1f\", annot_kws={\"fontsize\":10})"
      ],
      "execution_count": 0,
      "outputs": [
        {
          "output_type": "execute_result",
          "data": {
            "text/plain": [
              "<matplotlib.axes._subplots.AxesSubplot at 0x7f3de46f4d68>"
            ]
          },
          "metadata": {
            "tags": []
          },
          "execution_count": 23
        },
        {
          "output_type": "display_data",
          "data": {
            "image/png": "[encoded data removed]",
            "text/plain": [
              "<Figure size 720x576 with 2 Axes>"
            ]
          },
          "metadata": {
            "tags": []
          }
        }
      ]
    },
    {
      "cell_type": "code",
      "metadata": {
        "id": "xtjaUn9ZEl21",
        "colab_type": "code",
        "colab": {}
      },
      "source": [
        "# # Dissimalirty Matrix\n",
        "# dis_matrix.index=brand\n",
        "# dis_matrix.columns=brand\n",
        "# dis_matrix.fillna(0, inplace=True)\n",
        "\n",
        "# plt.figure(figsize=(10,8))\n",
        "# plt.title('Lift score heat map', fontsize = 10, pad = 20)\n",
        "# sns.heatmap(dis_matrix, linewidths=0.5, annot=True, fmt=\".1f\", annot_kws={\"fontsize\":10})"
      ],
      "execution_count": 0,
      "outputs": []
    },
    {
      "cell_type": "code",
      "metadata": {
        "id": "7ENOqHruWA__",
        "colab_type": "code",
        "outputId": "01176787-9912-4845-be53-72e4784c7ebb",
        "colab": {
          "base_uri": "https://localhost:8080/",
          "height": 354
        }
      },
      "source": [
        "# MDS Map\n",
        "\n",
        "mdsmatrix=dis_matrix.values\n",
        "\n",
        "mds=manifold.MDS(n_components=2, dissimilarity ='precomputed', random_state=10)\n",
        "\n",
        "results=mds.fit(mdsmatrix)\n",
        "coords=results.embedding_\n",
        "\n",
        "x=coords[:,0]\n",
        "y=coords[:,1]\n",
        "\n",
        "plt.figure(figsize=(8,4)) \n",
        "\n",
        "ax=plt.axes([0.,0.,1.,1.])\n",
        "plt.title('MDS plot for top 10 car brands', fontsize = 16, pad = 20)\n",
        "plt.scatter(x, y, marker='D', color='blue', s = 25)\n",
        "\n",
        "n=list(dis_matrix.index)\n",
        "\n",
        "for i in range(len(n)):\n",
        "    if n[i] == 'infiniti':\n",
        "        ax.annotate(n[i], xy= (x[i] - 0.08, y[i] + 0.01), fontsize = 12)\n",
        "    else:\n",
        "        ax.annotate(n[i], xy = (x[i] + 0.01, y[i] + 0.01), fontsize = 12)\n",
        "       \n",
        "plt.xticks([])\n",
        "plt.yticks([])\n",
        "\n",
        "plt.show()"
      ],
      "execution_count": 0,
      "outputs": [
        {
          "output_type": "display_data",
          "data": {
            "image/png": "[encoded data removed]",
            "text/plain": [
              "<Figure size 576x288 with 1 Axes>"
            ]
          },
          "metadata": {
            "tags": []
          }
        }
      ]
    },
    {
      "cell_type": "markdown",
      "metadata": {
        "id": "qYj4YPggf9ah",
        "colab_type": "text"
      },
      "source": [
        "**Insights:**\n",
        "\n",
        "The lift matrix gives us an idea about how often various pairs of brands are mentioned together in the forum’s comments section.\n",
        "\n",
        "\n",
        "1. People talk about BMW and Lexus together more than the general expectation of BMW being talked along with Audi or Mercedes. This is strange given the fact that Audi, BMW and Mercedes are considered to be high-end luxury cars which would be expected to be more similar to each other while Lexus was isn’t quite at that level. A possible explanation for this could be that entry level BMW car owners considering to have more value at the same price for a fully loaded Lexus when compared to just the pricey logo of BMW\n",
        "2. Honda, Toyota and Nissan - the asian cars are clustered together. These 3 are most talked about brands as a group. This can be attributed to the fact that these brands have similar product placements and pricing\n",
        "3. Acura and Infinity are relatively isolated from other brands which makes it tough for them to get traction in other brand users. On a positve note, they will have less churn rate too.\n",
        "\n"
      ]
    },
    {
      "cell_type": "markdown",
      "metadata": {
        "id": "C0oHZyZRYUzi",
        "colab_type": "text"
      },
      "source": [
        "### Features"
      ]
    },
    {
      "cell_type": "code",
      "metadata": {
        "id": "x-D5C4t-WH4G",
        "colab_type": "code",
        "outputId": "cebc6b7b-4b36-4619-be30-a8e64512bc9b",
        "colab": {
          "base_uri": "https://localhost:8080/",
          "height": 203
        }
      },
      "source": [
        "# import list of features tagged manually\n",
        "feature_list = pd.read_csv('feature_list.csv')\n",
        "feature_list.head()"
      ],
      "execution_count": 0,
      "outputs": [
        {
          "output_type": "execute_result",
          "data": {
            "text/html": [
              "<div>\n",
              "<style scoped>\n",
              "    .dataframe tbody tr th:only-of-type {\n",
              "        vertical-align: middle;\n",
              "    }\n",
              "\n",
              "    .dataframe tbody tr th {\n",
              "        vertical-align: top;\n",
              "    }\n",
              "\n",
              "    .dataframe thead th {\n",
              "        text-align: right;\n",
              "    }\n",
              "</style>\n",
              "<table border=\"1\" class=\"dataframe\">\n",
              "  <thead>\n",
              "    <tr style=\"text-align: right;\">\n",
              "      <th></th>\n",
              "      <th>Child</th>\n",
              "      <th>Parent</th>\n",
              "    </tr>\n",
              "  </thead>\n",
              "  <tbody>\n",
              "    <tr>\n",
              "      <th>0</th>\n",
              "      <td>interior</td>\n",
              "      <td>interior</td>\n",
              "    </tr>\n",
              "    <tr>\n",
              "      <th>1</th>\n",
              "      <td>looks</td>\n",
              "      <td>looks</td>\n",
              "    </tr>\n",
              "    <tr>\n",
              "      <th>2</th>\n",
              "      <td>pretty</td>\n",
              "      <td>looks</td>\n",
              "    </tr>\n",
              "    <tr>\n",
              "      <th>3</th>\n",
              "      <td>exterior</td>\n",
              "      <td>aesthetics</td>\n",
              "    </tr>\n",
              "    <tr>\n",
              "      <th>4</th>\n",
              "      <td>style</td>\n",
              "      <td>looks</td>\n",
              "    </tr>\n",
              "  </tbody>\n",
              "</table>\n",
              "</div>"
            ],
            "text/plain": [
              "      Child      Parent\n",
              "0  interior    interior\n",
              "1     looks       looks\n",
              "2    pretty       looks\n",
              "3  exterior  aesthetics\n",
              "4     style       looks"
            ]
          },
          "metadata": {
            "tags": []
          },
          "execution_count": 50
        }
      ]
    },
    {
      "cell_type": "markdown",
      "metadata": {
        "id": "bgIkRWzsxP25",
        "colab_type": "text"
      },
      "source": [
        "#### Finding top 20 features, we will merge them in group of 5 later"
      ]
    },
    {
      "cell_type": "code",
      "metadata": {
        "id": "XP7JjDc2g856",
        "colab_type": "code",
        "colab": {}
      },
      "source": [
        "# unique list of all features\n",
        "features_all = pd.DataFrame(feature_list['Child'].unique(), columns=['feature'])"
      ],
      "execution_count": 0,
      "outputs": []
    },
    {
      "cell_type": "code",
      "metadata": {
        "id": "X_ycMUdWhUlV",
        "colab_type": "code",
        "outputId": "0cc02c7d-a552-4fbb-9a4a-5df648178ad5",
        "colab": {
          "base_uri": "https://localhost:8080/",
          "height": 666
        }
      },
      "source": [
        "# subset top 10 features\n",
        "top20_ofall_features = word_count_cars.merge(features_all, how='inner', right_on='feature', left_on = 'word').iloc[:20,:2]\n",
        "top20_ofall_features"
      ],
      "execution_count": 0,
      "outputs": [
        {
          "output_type": "execute_result",
          "data": {
            "text/html": [
              "<div>\n",
              "<style scoped>\n",
              "    .dataframe tbody tr th:only-of-type {\n",
              "        vertical-align: middle;\n",
              "    }\n",
              "\n",
              "    .dataframe tbody tr th {\n",
              "        vertical-align: top;\n",
              "    }\n",
              "\n",
              "    .dataframe thead th {\n",
              "        text-align: right;\n",
              "    }\n",
              "</style>\n",
              "<table border=\"1\" class=\"dataframe\">\n",
              "  <thead>\n",
              "    <tr style=\"text-align: right;\">\n",
              "      <th></th>\n",
              "      <th>word</th>\n",
              "      <th>freq</th>\n",
              "    </tr>\n",
              "  </thead>\n",
              "  <tbody>\n",
              "    <tr>\n",
              "      <th>0</th>\n",
              "      <td>performance</td>\n",
              "      <td>938</td>\n",
              "    </tr>\n",
              "    <tr>\n",
              "      <th>1</th>\n",
              "      <td>luxury</td>\n",
              "      <td>731</td>\n",
              "    </tr>\n",
              "    <tr>\n",
              "      <th>2</th>\n",
              "      <td>price</td>\n",
              "      <td>665</td>\n",
              "    </tr>\n",
              "    <tr>\n",
              "      <th>3</th>\n",
              "      <td>engine</td>\n",
              "      <td>571</td>\n",
              "    </tr>\n",
              "    <tr>\n",
              "      <th>4</th>\n",
              "      <td>handling</td>\n",
              "      <td>530</td>\n",
              "    </tr>\n",
              "    <tr>\n",
              "      <th>5</th>\n",
              "      <td>interior</td>\n",
              "      <td>525</td>\n",
              "    </tr>\n",
              "    <tr>\n",
              "      <th>6</th>\n",
              "      <td>manual</td>\n",
              "      <td>499</td>\n",
              "    </tr>\n",
              "    <tr>\n",
              "      <th>7</th>\n",
              "      <td>power</td>\n",
              "      <td>459</td>\n",
              "    </tr>\n",
              "    <tr>\n",
              "      <th>8</th>\n",
              "      <td>rwd</td>\n",
              "      <td>454</td>\n",
              "    </tr>\n",
              "    <tr>\n",
              "      <th>9</th>\n",
              "      <td>sport</td>\n",
              "      <td>430</td>\n",
              "    </tr>\n",
              "    <tr>\n",
              "      <th>10</th>\n",
              "      <td>fwd</td>\n",
              "      <td>382</td>\n",
              "    </tr>\n",
              "    <tr>\n",
              "      <th>11</th>\n",
              "      <td>seat</td>\n",
              "      <td>376</td>\n",
              "    </tr>\n",
              "    <tr>\n",
              "      <th>12</th>\n",
              "      <td>awd</td>\n",
              "      <td>371</td>\n",
              "    </tr>\n",
              "    <tr>\n",
              "      <th>13</th>\n",
              "      <td>money</td>\n",
              "      <td>314</td>\n",
              "    </tr>\n",
              "    <tr>\n",
              "      <th>14</th>\n",
              "      <td>pretty</td>\n",
              "      <td>313</td>\n",
              "    </tr>\n",
              "    <tr>\n",
              "      <th>15</th>\n",
              "      <td>looks</td>\n",
              "      <td>306</td>\n",
              "    </tr>\n",
              "    <tr>\n",
              "      <th>16</th>\n",
              "      <td>speed</td>\n",
              "      <td>299</td>\n",
              "    </tr>\n",
              "    <tr>\n",
              "      <th>17</th>\n",
              "      <td>tires</td>\n",
              "      <td>293</td>\n",
              "    </tr>\n",
              "    <tr>\n",
              "      <th>18</th>\n",
              "      <td>torque</td>\n",
              "      <td>285</td>\n",
              "    </tr>\n",
              "    <tr>\n",
              "      <th>19</th>\n",
              "      <td>experience</td>\n",
              "      <td>258</td>\n",
              "    </tr>\n",
              "  </tbody>\n",
              "</table>\n",
              "</div>"
            ],
            "text/plain": [
              "           word  freq\n",
              "0   performance   938\n",
              "1        luxury   731\n",
              "2         price   665\n",
              "3        engine   571\n",
              "4      handling   530\n",
              "5      interior   525\n",
              "6        manual   499\n",
              "7         power   459\n",
              "8           rwd   454\n",
              "9         sport   430\n",
              "10          fwd   382\n",
              "11         seat   376\n",
              "12          awd   371\n",
              "13        money   314\n",
              "14       pretty   313\n",
              "15        looks   306\n",
              "16        speed   299\n",
              "17        tires   293\n",
              "18       torque   285\n",
              "19   experience   258"
            ]
          },
          "metadata": {
            "tags": []
          },
          "execution_count": 30
        }
      ]
    },
    {
      "cell_type": "code",
      "metadata": {
        "id": "_wjEPgkYhUi_",
        "colab_type": "code",
        "colab": {}
      },
      "source": [
        "# get feature counts and prepare lift matrix\n",
        "features_20 = top20_ofall_features['word'].values\n",
        "brand5 = top10_cars.iloc[:5,0].values\n",
        "l=[]\n",
        "matrix_features=pd.DataFrame(index=range(len(features_20)),columns=range(len(brand5)))\n",
        "\n",
        "n=len(scrapped_data)\n",
        "for i in range(len(features_20)):\n",
        "  for j in range(len(brand5)):\n",
        "    counti=0\n",
        "    countj=0\n",
        "    countij=0\n",
        "    for k in scrapped_data['cars_cleaned']:\n",
        "      if features_20[i] in k and brand5[j] in k:\n",
        "        countij+=1\n",
        "      if features_20[i] in k:\n",
        "        counti+=1\n",
        "      if brand5[j] in k:\n",
        "        countj+=1\n",
        "      else:\n",
        "        pass\n",
        "    l.append([features_20[i],brand5[j],counti,countj,countij])\n",
        "    matrix_features.loc[i,j]=(countij*n)/(counti*countj)"
      ],
      "execution_count": 0,
      "outputs": []
    },
    {
      "cell_type": "code",
      "metadata": {
        "id": "t2PWSI_jhUfu",
        "colab_type": "code",
        "outputId": "5540c975-c017-4c9f-b88c-88e2192e4eaf",
        "colab": {
          "base_uri": "https://localhost:8080/",
          "height": 637
        }
      },
      "source": [
        "# Lift Matrix\n",
        "matrix_features.index= features_20\n",
        "matrix_features.columns= brand5\n",
        "matrix_features.fillna(0, inplace=True)\n",
        "\n",
        "matrix_features\n",
        "\n",
        "plt.figure(figsize=(10,10))\n",
        "plt.title('Brand vs Feature - Lift score heat map', fontsize = 10, pad = 20)\n",
        "sns.heatmap(matrix_features, cmap='RdYlGn', linewidths=0.5, annot=True, fmt=\".1f\", annot_kws={\"fontsize\":10})"
      ],
      "execution_count": 0,
      "outputs": [
        {
          "output_type": "execute_result",
          "data": {
            "text/plain": [
              "<matplotlib.axes._subplots.AxesSubplot at 0x7f3de0992898>"
            ]
          },
          "metadata": {
            "tags": []
          },
          "execution_count": 40
        },
        {
          "output_type": "display_data",
          "data": {
            "image/png": "[encoded data removed]",
            "text/plain": [
              "<Figure size 720x720 with 2 Axes>"
            ]
          },
          "metadata": {
            "tags": []
          }
        }
      ]
    },
    {
      "cell_type": "markdown",
      "metadata": {
        "id": "uzZcVs3EiUSr",
        "colab_type": "text"
      },
      "source": [
        "#### Top 5 features merged"
      ]
    },
    {
      "cell_type": "code",
      "metadata": {
        "id": "eVVENIGhYyg-",
        "colab_type": "code",
        "colab": {}
      },
      "source": [
        "feature_list_dict = dict(zip(feature_list['Child'], feature_list['Parent']))"
      ],
      "execution_count": 0,
      "outputs": []
    },
    {
      "cell_type": "code",
      "metadata": {
        "id": "wH0T1grMe5M-",
        "colab_type": "code",
        "colab": {}
      },
      "source": [
        "# get differend words corresponding to one feature under one umbrella and get rid of multiple instances of same feature using set\n",
        "scrapped_data['cleaned_feature_cars'] = \"\"\n",
        "from nltk.tokenize import word_tokenize\n",
        "word_corpus_clean = []\n",
        "\n",
        "for each in range(len(scrapped_data)):\n",
        "    token = word_tokenize(scrapped_data.loc[each,'comment'])\n",
        "   \n",
        "    new_token = []\n",
        "   \n",
        "    for j in token:\n",
        "        if j in feature_list_dict:\n",
        "            new_token.append(feature_list_dict[j])\n",
        "        elif j in cars_models_dict:\n",
        "            new_token.append(cars_models_dict[j])\n",
        "        else:\n",
        "            new_token.append(j)\n",
        "           \n",
        "    new_token = list(set(new_token))\n",
        "   \n",
        "    scrapped_data.loc[each,'cleaned_feature_cars'] = new_token\n",
        "\n",
        "    for i in new_token:\n",
        "        word_corpus_clean.append(i)"
      ],
      "execution_count": 0,
      "outputs": []
    },
    {
      "cell_type": "code",
      "metadata": {
        "id": "yUOVL63OhNDQ",
        "colab_type": "code",
        "outputId": "eaddb5fb-1462-466b-c4f0-56a3b844bf9d",
        "colab": {
          "base_uri": "https://localhost:8080/",
          "height": 203
        }
      },
      "source": [
        "scrapped_data.head()"
      ],
      "execution_count": 0,
      "outputs": [
        {
          "output_type": "execute_result",
          "data": {
            "text/html": [
              "<div>\n",
              "<style scoped>\n",
              "    .dataframe tbody tr th:only-of-type {\n",
              "        vertical-align: middle;\n",
              "    }\n",
              "\n",
              "    .dataframe tbody tr th {\n",
              "        vertical-align: top;\n",
              "    }\n",
              "\n",
              "    .dataframe thead th {\n",
              "        text-align: right;\n",
              "    }\n",
              "</style>\n",
              "<table border=\"1\" class=\"dataframe\">\n",
              "  <thead>\n",
              "    <tr style=\"text-align: right;\">\n",
              "      <th></th>\n",
              "      <th>username</th>\n",
              "      <th>date</th>\n",
              "      <th>comment</th>\n",
              "      <th>cars_cleaned</th>\n",
              "      <th>cleaned_feature_cars</th>\n",
              "    </tr>\n",
              "  </thead>\n",
              "  <tbody>\n",
              "    <tr>\n",
              "      <th>0</th>\n",
              "      <td>merc1</td>\n",
              "      <td>March 2002</td>\n",
              "      <td>personally think tweaks c320 could also sit to...</td>\n",
              "      <td>[facelift, 17, one, problem, something, thing,...</td>\n",
              "      <td>[facelift, 17, one, problem, aesthetics, somet...</td>\n",
              "    </tr>\n",
              "    <tr>\n",
              "      <th>1</th>\n",
              "      <td>fredvh</td>\n",
              "      <td>March 2002</td>\n",
              "      <td>debating new purchase two top list price diffe...</td>\n",
              "      <td>[debating, 6k, list, dilemma, service, suppose...</td>\n",
              "      <td>[debating, 6k, list, dilemma, service, suppose...</td>\n",
              "    </tr>\n",
              "    <tr>\n",
              "      <th>2</th>\n",
              "      <td>hungrywhale</td>\n",
              "      <td>March 2002</td>\n",
              "      <td>manual tranny may matter you certainly matter ...</td>\n",
              "      <td>[matter, enthusiast, may, even, easy, tranny, ...</td>\n",
              "      <td>[matter, enthusiast, may, even, transmission, ...</td>\n",
              "    </tr>\n",
              "    <tr>\n",
              "      <th>3</th>\n",
              "      <td>riez</td>\n",
              "      <td>March 2002</td>\n",
              "      <td>one beauty bmw 3 series many models choose fro...</td>\n",
              "      <td>[one, from, convertible, beauty, absolutely, m...</td>\n",
              "      <td>[one, from, convertible, beauty, absolutely, m...</td>\n",
              "    </tr>\n",
              "    <tr>\n",
              "      <th>4</th>\n",
              "      <td>blueguydotcom</td>\n",
              "      <td>March 2002</td>\n",
              "      <td>good grief wait 9 months manual even auto pref...</td>\n",
              "      <td>[months, driving, thought, mercedes, prefer, l...</td>\n",
              "      <td>[months, driving, thought, mercedes, prefer, l...</td>\n",
              "    </tr>\n",
              "  </tbody>\n",
              "</table>\n",
              "</div>"
            ],
            "text/plain": [
              "        username  ...                               cleaned_feature_cars\n",
              "0          merc1  ...  [facelift, 17, one, problem, aesthetics, somet...\n",
              "1         fredvh  ...  [debating, 6k, list, dilemma, service, suppose...\n",
              "2    hungrywhale  ...  [matter, enthusiast, may, even, transmission, ...\n",
              "3           riez  ...  [one, from, convertible, beauty, absolutely, m...\n",
              "4  blueguydotcom  ...  [months, driving, thought, mercedes, prefer, l...\n",
              "\n",
              "[5 rows x 5 columns]"
            ]
          },
          "metadata": {
            "tags": []
          },
          "execution_count": 54
        }
      ]
    },
    {
      "cell_type": "code",
      "metadata": {
        "id": "rX-ytf-ahd2G",
        "colab_type": "code",
        "outputId": "b69f2d2e-c5db-447f-d978-0b285c7e6c43",
        "colab": {
          "base_uri": "https://localhost:8080/",
          "height": 203
        }
      },
      "source": [
        "word_count_feature = pd.DataFrame(pd.Series(word_corpus_clean).value_counts()).reset_index()\n",
        "word_count_feature.columns = ['word','freq']\n",
        "word_count_feature.head()"
      ],
      "execution_count": 0,
      "outputs": [
        {
          "output_type": "execute_result",
          "data": {
            "text/html": [
              "<div>\n",
              "<style scoped>\n",
              "    .dataframe tbody tr th:only-of-type {\n",
              "        vertical-align: middle;\n",
              "    }\n",
              "\n",
              "    .dataframe tbody tr th {\n",
              "        vertical-align: top;\n",
              "    }\n",
              "\n",
              "    .dataframe thead th {\n",
              "        text-align: right;\n",
              "    }\n",
              "</style>\n",
              "<table border=\"1\" class=\"dataframe\">\n",
              "  <thead>\n",
              "    <tr style=\"text-align: right;\">\n",
              "      <th></th>\n",
              "      <th>word</th>\n",
              "      <th>freq</th>\n",
              "    </tr>\n",
              "  </thead>\n",
              "  <tbody>\n",
              "    <tr>\n",
              "      <th>0</th>\n",
              "      <td>car</td>\n",
              "      <td>3374</td>\n",
              "    </tr>\n",
              "    <tr>\n",
              "      <th>1</th>\n",
              "      <td>bmw</td>\n",
              "      <td>2618</td>\n",
              "    </tr>\n",
              "    <tr>\n",
              "      <th>2</th>\n",
              "      <td>performance</td>\n",
              "      <td>2493</td>\n",
              "    </tr>\n",
              "    <tr>\n",
              "      <th>3</th>\n",
              "      <td>price</td>\n",
              "      <td>1869</td>\n",
              "    </tr>\n",
              "    <tr>\n",
              "      <th>4</th>\n",
              "      <td>like</td>\n",
              "      <td>1727</td>\n",
              "    </tr>\n",
              "  </tbody>\n",
              "</table>\n",
              "</div>"
            ],
            "text/plain": [
              "          word  freq\n",
              "0          car  3374\n",
              "1          bmw  2618\n",
              "2  performance  2493\n",
              "3        price  1869\n",
              "4         like  1727"
            ]
          },
          "metadata": {
            "tags": []
          },
          "execution_count": 55
        }
      ]
    },
    {
      "cell_type": "code",
      "metadata": {
        "id": "k-jeYOnchnvi",
        "colab_type": "code",
        "colab": {}
      },
      "source": [
        "# unique list of features\n",
        "features = pd.DataFrame(feature_list['Parent'].unique(), columns=['feature'])"
      ],
      "execution_count": 0,
      "outputs": []
    },
    {
      "cell_type": "code",
      "metadata": {
        "id": "8Ogq5jahqGpr",
        "colab_type": "code",
        "outputId": "6ab73ed4-f50b-4cc2-94cd-de3ccfc89632",
        "colab": {
          "base_uri": "https://localhost:8080/",
          "height": 357
        }
      },
      "source": [
        "# subset top 10 features\n",
        "top10_features = word_count_feature.merge(features, how='inner', right_on='feature', left_on = 'word').iloc[:10,:2]\n",
        "top10_features"
      ],
      "execution_count": 0,
      "outputs": [
        {
          "output_type": "execute_result",
          "data": {
            "text/html": [
              "<div>\n",
              "<style scoped>\n",
              "    .dataframe tbody tr th:only-of-type {\n",
              "        vertical-align: middle;\n",
              "    }\n",
              "\n",
              "    .dataframe tbody tr th {\n",
              "        vertical-align: top;\n",
              "    }\n",
              "\n",
              "    .dataframe thead th {\n",
              "        text-align: right;\n",
              "    }\n",
              "</style>\n",
              "<table border=\"1\" class=\"dataframe\">\n",
              "  <thead>\n",
              "    <tr style=\"text-align: right;\">\n",
              "      <th></th>\n",
              "      <th>word</th>\n",
              "      <th>freq</th>\n",
              "    </tr>\n",
              "  </thead>\n",
              "  <tbody>\n",
              "    <tr>\n",
              "      <th>0</th>\n",
              "      <td>performance</td>\n",
              "      <td>2493</td>\n",
              "    </tr>\n",
              "    <tr>\n",
              "      <th>1</th>\n",
              "      <td>price</td>\n",
              "      <td>1869</td>\n",
              "    </tr>\n",
              "    <tr>\n",
              "      <th>2</th>\n",
              "      <td>transmission</td>\n",
              "      <td>1538</td>\n",
              "    </tr>\n",
              "    <tr>\n",
              "      <th>3</th>\n",
              "      <td>reliability</td>\n",
              "      <td>987</td>\n",
              "    </tr>\n",
              "    <tr>\n",
              "      <th>4</th>\n",
              "      <td>power</td>\n",
              "      <td>785</td>\n",
              "    </tr>\n",
              "    <tr>\n",
              "      <th>5</th>\n",
              "      <td>luxury</td>\n",
              "      <td>765</td>\n",
              "    </tr>\n",
              "    <tr>\n",
              "      <th>6</th>\n",
              "      <td>looks</td>\n",
              "      <td>718</td>\n",
              "    </tr>\n",
              "    <tr>\n",
              "      <th>7</th>\n",
              "      <td>sport</td>\n",
              "      <td>712</td>\n",
              "    </tr>\n",
              "    <tr>\n",
              "      <th>8</th>\n",
              "      <td>comfort</td>\n",
              "      <td>678</td>\n",
              "    </tr>\n",
              "    <tr>\n",
              "      <th>9</th>\n",
              "      <td>interior</td>\n",
              "      <td>557</td>\n",
              "    </tr>\n",
              "  </tbody>\n",
              "</table>\n",
              "</div>"
            ],
            "text/plain": [
              "           word  freq\n",
              "0   performance  2493\n",
              "1         price  1869\n",
              "2  transmission  1538\n",
              "3   reliability   987\n",
              "4         power   785\n",
              "5        luxury   765\n",
              "6         looks   718\n",
              "7         sport   712\n",
              "8       comfort   678\n",
              "9      interior   557"
            ]
          },
          "metadata": {
            "tags": []
          },
          "execution_count": 57
        }
      ]
    },
    {
      "cell_type": "code",
      "metadata": {
        "id": "L_7nUeqcq_R6",
        "colab_type": "code",
        "colab": {}
      },
      "source": [
        "# get feature counts and prepare lift matrix\n",
        "features_10 = top10_features.iloc[:5,0]\n",
        "# brand = top10_cars['word'].values -- defined in Cars Lift calculation\n",
        "l=[]\n",
        "matrix_features=pd.DataFrame(columns=range(len(features_10)),index=range(len(brand5)))\n",
        "dis_matrix_features = pd.DataFrame(columns=range(len(features_10)),index=range(len(brand5)))\n",
        "\n",
        "n=len(scrapped_data)\n",
        "for i in range(len(features_10)):\n",
        "  for j in range(len(brand5)):\n",
        "    counti=0\n",
        "    countj=0\n",
        "    countij=0\n",
        "    for k in scrapped_data['cleaned_feature_cars']:\n",
        "      if features_10[i] in k and brand5[j] in k:\n",
        "        countij+=1\n",
        "      if features_10[i] in k:\n",
        "        counti+=1\n",
        "      if brand5[j] in k:\n",
        "        countj+=1\n",
        "      else:\n",
        "        pass\n",
        "    l.append([features_10[i],brand5[j],counti,countj,countij])\n",
        "    matrix_features.loc[i,j]=(countij*n)/(counti*countj)\n",
        "    matrix_features.loc[j,i]=(countij*n)/(counti*countj)"
      ],
      "execution_count": 0,
      "outputs": []
    },
    {
      "cell_type": "code",
      "metadata": {
        "id": "SvM1jXXiGF85",
        "colab_type": "code",
        "outputId": "37ed9ab5-f218-4f4f-95fe-e1ee153a1dfb",
        "colab": {
          "base_uri": "https://localhost:8080/",
          "height": 394
        }
      },
      "source": [
        "# Lift Matrix\n",
        "matrix_features.index=brand5\n",
        "matrix_features.columns=features_10\n",
        "matrix_features.fillna(0, inplace=True)\n",
        "\n",
        "plt.figure(figsize=(10,5))\n",
        "plt.title('Brand vs Feature - Lift score heat map', fontsize = 10, pad = 20)\n",
        "sns.heatmap(matrix_features, cmap='RdYlGn', linewidths=0.5, annot=True, fmt=\".1f\", annot_kws={\"fontsize\":10})"
      ],
      "execution_count": 0,
      "outputs": [
        {
          "output_type": "execute_result",
          "data": {
            "text/plain": [
              "<matplotlib.axes._subplots.AxesSubplot at 0x7f3dde8f2208>"
            ]
          },
          "metadata": {
            "tags": []
          },
          "execution_count": 79
        },
        {
          "output_type": "display_data",
          "data": {
            "image/png": "[encoded data removed]",
            "text/plain": [
              "<Figure size 720x360 with 2 Axes>"
            ]
          },
          "metadata": {
            "tags": []
          }
        }
      ]
    },
    {
      "cell_type": "markdown",
      "metadata": {
        "id": "F3G9tFJt9dqh",
        "colab_type": "text"
      },
      "source": [
        "**Insights to Product Manager**\n",
        "\n",
        "1.   **BMW:** Though BMW claims they are ‘The Ultimate Driving Machine’, the lift calculations between BMW and performance shows otherwise. Upon considering transmission and power, BMW does not score well either. BMW should improve the performance factor to match what their tagline says, according to general public opinion on Edmunds forum\n",
        "2. **Acura**: Acura passes off among the public as a forgotten luxury car, with higher quality and associated highest with reliability. However, the lift calculations show that Acura drops off at a bad rate here. The lift rate shows that Acura fails here to be qualified as a good performer. Close to the other luxury brands, that is, Mercedes and Infiniti in the MDS chart, the differentiating factor is Acura’s age-old branding as a reliable machine. If the brand captures this back and gets rid of the growing concern over Acura’s performance and reliability, the brand can reinvent itself and get back into the race\n",
        "3. **Infiniti**: Infiniti, another luxury brand, lies close to Acura in the MDS graph. It fails in the performance sector. While aiming for luxury, a notch better performance would help Infiniti gain a better leverage over the other above-mentioned brands. However, it has an edge over Acura in the pricing aspect.\n",
        "4. **Lexus**: The name Lexus itself is synonymous to luxury and dependability. In fact, Lexus has won ‘The Most Dependable Luxury brand of 2019’ - eight time in a row. This tells us that the general public do correlate Lexus not only as a luxury brand, pleasing to the eye and aesthetically rich, but also as a highly reliable car. Looking at the lift calculations show us that Lexus is less called of with price related things, which may indicate that people don't talk about Lexus's price much, a positive sign for the brand\n",
        "5. **Mercedes**: Mercedes, another luxury brand, fails at capturing positive ratings in the performance sector. Gaining good points in the price and transmission feature, it looses edge in the reliability feature. If Mercedes can pull up its reliability , it can race ahead in the luxury beast sector.\n",
        "\n"
      ]
    },
    {
      "cell_type": "markdown",
      "metadata": {
        "id": "F3yrgXRu-V0T",
        "colab_type": "text"
      },
      "source": [
        "**Insights to Marketing/Advertising Team**\n",
        "\n",
        "1.   **BMW:** Looking at the MDS graph, we can see that BMW is closer to Lexus and Mercedes. With the tagline of ‘The Ultimate Driving Machine’, if public is under the opinion that BMW’s performance is low, sales go down eventually. With the car faring well in design and price, they can used as an edge over its competitors. This can be used for marketing and advertising, increasing BMW’s hold over luxury brands.\n",
        "2. **Acura**: The reliability factor of Acura can be used to gain foothold in the luxury brands. Looking at the MDS chart, Acura is surrounded by luxury brands. The Lift calculations show that Acura is low in design and price, but it has a good name of a reliable car, with passable performance. These two attributes can be used to market Acura as a reliable, performing luxury car with reliability something the other luxury cars scoring much lower than Acura\n",
        "3. **Infiniti**: Infiniti fares high in the power part, competing well in the other sectors with it’s closest competitor according to MDS, Acura. Thus using the power factor as its branding and aiming audience who wish for a powerful car, it can gain advantage over Acura\n",
        "4. **Lexus**: The brand itself is synonymous to luxury and reliablity. No additional effort might be needed here. It does a good job in being dependable and in offering a rich experience. However if Infiniti projects itself using aesthetics, Lexus can always use its already existing luxury tag and the dependability tag – a deadly combination\n",
        "5. **Mercedes**: Mercedes scores high in the price, transmission and power factor, one among highest among all the five cars discussed here. If these can be used to project Mercedes as a visual treat, with decent performance (already present), sectors that look for power and performance will be the target audience and Mercedes can compete in the luxury power beasts"
      ]
    },
    {
      "cell_type": "markdown",
      "metadata": {
        "id": "cA7Lq4yZIo9v",
        "colab_type": "text"
      },
      "source": [
        "### Aspirations"
      ]
    },
    {
      "cell_type": "code",
      "metadata": {
        "id": "4kb-B5HdIoP0",
        "colab_type": "code",
        "outputId": "15604587-4317-4275-a91d-4f35abd7b0c9",
        "colab": {
          "base_uri": "https://localhost:8080/",
          "height": 203
        }
      },
      "source": [
        "# import list of features tagged manually\n",
        "aspiration_words = pd.read_csv('aspiration_words.csv')\n",
        "aspiration_words.head()"
      ],
      "execution_count": 0,
      "outputs": [
        {
          "output_type": "execute_result",
          "data": {
            "text/html": [
              "<div>\n",
              "<style scoped>\n",
              "    .dataframe tbody tr th:only-of-type {\n",
              "        vertical-align: middle;\n",
              "    }\n",
              "\n",
              "    .dataframe tbody tr th {\n",
              "        vertical-align: top;\n",
              "    }\n",
              "\n",
              "    .dataframe thead th {\n",
              "        text-align: right;\n",
              "    }\n",
              "</style>\n",
              "<table border=\"1\" class=\"dataframe\">\n",
              "  <thead>\n",
              "    <tr style=\"text-align: right;\">\n",
              "      <th></th>\n",
              "      <th>Keywords</th>\n",
              "    </tr>\n",
              "  </thead>\n",
              "  <tbody>\n",
              "    <tr>\n",
              "      <th>0</th>\n",
              "      <td>aspire</td>\n",
              "    </tr>\n",
              "    <tr>\n",
              "      <th>1</th>\n",
              "      <td>desire</td>\n",
              "    </tr>\n",
              "    <tr>\n",
              "      <th>2</th>\n",
              "      <td>want</td>\n",
              "    </tr>\n",
              "    <tr>\n",
              "      <th>3</th>\n",
              "      <td>prefer</td>\n",
              "    </tr>\n",
              "    <tr>\n",
              "      <th>4</th>\n",
              "      <td>book</td>\n",
              "    </tr>\n",
              "  </tbody>\n",
              "</table>\n",
              "</div>"
            ],
            "text/plain": [
              "  Keywords\n",
              "0   aspire\n",
              "1   desire\n",
              "2     want\n",
              "3   prefer\n",
              "4     book"
            ]
          },
          "metadata": {
            "tags": []
          },
          "execution_count": 82
        }
      ]
    },
    {
      "cell_type": "code",
      "metadata": {
        "id": "xMJcXcgwRF0i",
        "colab_type": "code",
        "colab": {}
      },
      "source": [
        "scrapped_data['aspiration'] = scrapped_data['cleaned_feature_cars']\n",
        "for i in range(len(scrapped_data)):\n",
        "  for k in scrapped_data.loc[i,'cleaned_feature_cars']:\n",
        "    if k in aspiration_words['Keywords'].values:\n",
        "      # if we see any aspirational word, add one dummy word 'aspiration' and move to the next comment \n",
        "      scrapped_data.loc[i,'cleaned_feature_cars'].append('aspiration')\n",
        "      break"
      ],
      "execution_count": 0,
      "outputs": []
    },
    {
      "cell_type": "code",
      "metadata": {
        "id": "Z3bSIvJpYgJm",
        "colab_type": "code",
        "colab": {}
      },
      "source": [
        "# brand = top10_cars['word'].values -- defined in Cars Lift calculation\n",
        "# Calculating Lift between brand and aspirational words\n",
        "check = 'aspiration'\n",
        "l = []\n",
        "n=len(scrapped_data)\n",
        "for i in range(len(brand)):\n",
        "    counti=0\n",
        "    countj=0\n",
        "    countij=0\n",
        "    for k in scrapped_data['aspiration']:\n",
        "      if check in k and brand[i] in k:\n",
        "        countij+=1\n",
        "      if check in k:\n",
        "        countj+=1\n",
        "      if brand[i] in k:\n",
        "        counti+=1\n",
        "      else:\n",
        "        pass\n",
        "    l.append([brand[i], (countij*n)/(counti*countj)])\n",
        "aspiration_lift = pd.DataFrame(l, columns=['Brand','Aspiration Lift'])"
      ],
      "execution_count": 0,
      "outputs": []
    },
    {
      "cell_type": "code",
      "metadata": {
        "id": "oJ3-pSSkb59u",
        "colab_type": "code",
        "outputId": "6babbba9-2f90-46b1-984f-2103406eb31d",
        "colab": {
          "base_uri": "https://localhost:8080/",
          "height": 357
        }
      },
      "source": [
        "aspiration_lift.sort_values(by = 'Aspiration Lift', ascending = False)"
      ],
      "execution_count": 0,
      "outputs": [
        {
          "output_type": "execute_result",
          "data": {
            "text/html": [
              "<div>\n",
              "<style scoped>\n",
              "    .dataframe tbody tr th:only-of-type {\n",
              "        vertical-align: middle;\n",
              "    }\n",
              "\n",
              "    .dataframe tbody tr th {\n",
              "        vertical-align: top;\n",
              "    }\n",
              "\n",
              "    .dataframe thead th {\n",
              "        text-align: right;\n",
              "    }\n",
              "</style>\n",
              "<table border=\"1\" class=\"dataframe\">\n",
              "  <thead>\n",
              "    <tr style=\"text-align: right;\">\n",
              "      <th></th>\n",
              "      <th>Brand</th>\n",
              "      <th>Aspiration Lift</th>\n",
              "    </tr>\n",
              "  </thead>\n",
              "  <tbody>\n",
              "    <tr>\n",
              "      <th>7</th>\n",
              "      <td>toyota</td>\n",
              "      <td>1.460951</td>\n",
              "    </tr>\n",
              "    <tr>\n",
              "      <th>3</th>\n",
              "      <td>lexus</td>\n",
              "      <td>1.348102</td>\n",
              "    </tr>\n",
              "    <tr>\n",
              "      <th>4</th>\n",
              "      <td>mercedes</td>\n",
              "      <td>1.340306</td>\n",
              "    </tr>\n",
              "    <tr>\n",
              "      <th>5</th>\n",
              "      <td>audi</td>\n",
              "      <td>1.311459</td>\n",
              "    </tr>\n",
              "    <tr>\n",
              "      <th>6</th>\n",
              "      <td>honda</td>\n",
              "      <td>1.307441</td>\n",
              "    </tr>\n",
              "    <tr>\n",
              "      <th>0</th>\n",
              "      <td>bmw</td>\n",
              "      <td>1.269696</td>\n",
              "    </tr>\n",
              "    <tr>\n",
              "      <th>2</th>\n",
              "      <td>infiniti</td>\n",
              "      <td>1.244100</td>\n",
              "    </tr>\n",
              "    <tr>\n",
              "      <th>8</th>\n",
              "      <td>nissan</td>\n",
              "      <td>1.241179</td>\n",
              "    </tr>\n",
              "    <tr>\n",
              "      <th>1</th>\n",
              "      <td>acura</td>\n",
              "      <td>1.171771</td>\n",
              "    </tr>\n",
              "    <tr>\n",
              "      <th>9</th>\n",
              "      <td>cadillac</td>\n",
              "      <td>1.020229</td>\n",
              "    </tr>\n",
              "  </tbody>\n",
              "</table>\n",
              "</div>"
            ],
            "text/plain": [
              "      Brand  Aspiration Lift\n",
              "7    toyota         1.460951\n",
              "3     lexus         1.348102\n",
              "4  mercedes         1.340306\n",
              "5      audi         1.311459\n",
              "6     honda         1.307441\n",
              "0       bmw         1.269696\n",
              "2  infiniti         1.244100\n",
              "8    nissan         1.241179\n",
              "1     acura         1.171771\n",
              "9  cadillac         1.020229"
            ]
          },
          "metadata": {
            "tags": []
          },
          "execution_count": 85
        }
      ]
    },
    {
      "cell_type": "markdown",
      "metadata": {
        "id": "uYD5vSfTdPMY",
        "colab_type": "text"
      },
      "source": [
        "**Insights:**\n",
        "\n",
        "**Toyota** is the most desired brand closely followed by Lexus and Mercedes since it has considerably high lift with aspirational words when compared to other brands. Having observed that Toyota has a high lift with realiability, imply that entry level luxury car prospected buyers are considering realiabilty as top attribute for their decision. \n",
        "\n",
        "To identify this, we collated the list of asprirational words like buy, purchase, desire, want and replaced these words with the aspiration in the comment, and performed an analysis to observe lift between the brand and this aspiration word, this lift translates to the measure of people actually wanting to buy and highlighed the top brands with high lift score. \n",
        "\n",
        "**Business Implications for Toyota**\n",
        "Toyota usually brands itself as an affordable and reliable car, so targetting this entry level luxury segment through a dedicated ad-campaign can help establishing themselves in this segment and helps them improve their market share.\n",
        "\n",
        "\n",
        "\n"
      ]
    }
  ]
}